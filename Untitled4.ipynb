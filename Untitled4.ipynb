{
 "cells": [
  {
   "cell_type": "code",
   "execution_count": null,
   "id": "2530f660-c669-482d-9282-d4c543ded35a",
   "metadata": {},
   "outputs": [],
   "source": [
    "import pandas as pd\n",
    "data = {'a':1,'b':2,'c':None,'d':4}\n",
    "series = pd.series[data];\n",
    "print(\"series:\")\n",
    "print(series)\n",
    "missing_values=pd.missing_values[0];\n",
    "print(f\"missing value:\",replace with 0)\n",
    "print(missing_values)"
   ]
  }
 ],
 "metadata": {
  "kernelspec": {
   "display_name": "",
   "name": ""
  },
  "language_info": {
   "name": ""
  }
 },
 "nbformat": 4,
 "nbformat_minor": 5
}
